{
 "cells": [
  {
   "cell_type": "code",
   "execution_count": 2,
   "metadata": {},
   "outputs": [],
   "source": [
    "from PIL import Image, ImageDraw\n",
    "from matplotlib import pyplot as plt\n",
    "from scipy import ndimage, misc\n",
    "import numpy as np\n",
    "from math import sqrt"
   ]
  },
  {
   "cell_type": "code",
   "execution_count": 27,
   "metadata": {},
   "outputs": [
    {
     "data": {
      "text/plain": [
       "array([[ 7., -1., -1., -1., -1., -1., -1., -1., -1., -1.],\n",
       "       [ 7., -1., -1., -1., -1., -1., -1., -1., -1., -1.],\n",
       "       [ 7., -1., -1., -1., -1., -1., -1., -1., -1., -1.],\n",
       "       [ 7., -1., -1., -1., -1., -1., -1., -1., -1., -1.],\n",
       "       [-1.,  7., -1., -1., -1., -1., -1., -1., -1., -1.],\n",
       "       [-1.,  7., -1., -1., -1., -1., -1., -1., -1., -1.],\n",
       "       [-1., -1.,  7., -1., -1., -1., -1., -1., -1., -1.],\n",
       "       [-1., -1., -1.,  7., -1., -1., -1., -1., -1., -1.],\n",
       "       [-1., -1., -1., -1.,  7., -1., -1., -1., -1., -1.],\n",
       "       [-1., -1., -1., -1., -1., -1.,  7.,  7.,  7., -1.]])"
      ]
     },
     "execution_count": 27,
     "metadata": {},
     "output_type": "execute_result"
    }
   ],
   "source": [
    "c = np.ones((10, 10))\n",
    "c *= -1\n",
    "\n",
    "for i in range(10):\n",
    "    d = 10 - round(sqrt(100 - i*i))\n",
    "    c[i, d] = 7\n",
    "\n",
    "c[i, d:9] = 7\n",
    "        \n",
    "c"
   ]
  },
  {
   "cell_type": "code",
   "execution_count": 34,
   "metadata": {},
   "outputs": [
    {
     "data": {
      "image/png": "[encoded data removed]",
      "text/plain": [
       "<Figure size 1440x432 with 4 Axes>"
      ]
     },
     "metadata": {
      "needs_background": "light"
     },
     "output_type": "display_data"
    }
   ],
   "source": [
    "# Load image:\n",
    "input_image = Image.open(\"data/lab_1_1_pic_2.png\")\n",
    "input_pixels = input_image.load()\n",
    "width, height = input_image.width, input_image.height\n",
    "\n",
    "# Make grayscaled\n",
    "gray = input_image.copy()\n",
    "gray_drawer = ImageDraw.Draw(gray)\n",
    "\n",
    "for x in range(width):\n",
    "    for y in range(height):\n",
    "        av = int((input_pixels[x, y][0] + input_pixels[x, y][1] + input_pixels[x, y][2]) / 3)\n",
    "        gray_drawer.point((x, y), (av, av, av))\n",
    "gray_pixels = gray.load()\n",
    "gray_arr = np.array([[gray_pixels[x, y][0] for x in range(width)] for y in range(height)])\n",
    "\n",
    "\n",
    "# Convolution\n",
    "result = ndimage.convolve(gray_arr, c, mode='nearest', cval=0)\n",
    "result = result.transpose()\n",
    "\n",
    "# Create output image\n",
    "result2 = np.zeros(result.shape)\n",
    "for x in range(width):\n",
    "    for y in range(height):\n",
    "        if result[x,y] < 0:\n",
    "            result2[x,y] = 1\n",
    "            \n",
    "output_image = Image.new(\"RGBA\", input_image.size)\n",
    "output_image.paste( (0,255,0), (0,0,output_image.size[0],output_image.size[1]))\n",
    "o_drawer = ImageDraw.Draw(output_image)\n",
    "for x in range(width):\n",
    "    for y in range(height):\n",
    "        if result2[x,y] == 1:\n",
    "            o_drawer.point((x,y), (0, 0, 0))\n",
    "        \n",
    "fig, (ax1, ax2, ax3, ax4) = plt.subplots(1, 4, figsize=(20,6))\n",
    "\n",
    "ax1.set_title('original')\n",
    "ax1.axis('off')\n",
    "ax2.set_title('graysclaled')\n",
    "ax2.axis('off')\n",
    "ax3.set_title('after convolution')\n",
    "ax3.axis('off')\n",
    "ax4.set_title('result')\n",
    "ax4.axis('off')\n",
    "\n",
    "ax1.imshow(input_image)\n",
    "ax2.imshow(gray)\n",
    "ax3.imshow(result2.T, cmap=\"gray\")\n",
    "ax4.imshow(output_image)\n",
    "    \n",
    "\n",
    "output_image.save(\"edge.png\")"
   ]
  },
  {
   "cell_type": "code",
   "execution_count": 64,
   "metadata": {
    "scrolled": true
   },
   "outputs": [
    {
     "data": {
      "text/plain": [
       "array([[    0,     0,     0,     0,     0,     0,     0,     0,     0,\n",
       "            0,     0,     0,     0,     0,     0,     0,     0,     0,\n",
       "            0,     0,     0,     0,     0,     0,     0,     0,     0,\n",
       "            0,     0,     0,     0,     0,     0,     0,     0,     0,\n",
       "            0,     0,     0,     0,     0,     0,     0,     0,     0,\n",
       "            0,     0,     0,     0,     0,     0,     0,     0,     0,\n",
       "            0,     0,     0,     0,     0,     0,     0,     0,     0,\n",
       "            0,     0,     0,     0,     0,     0,     0,     0,     0,\n",
       "            0,     0,     0,  -255,   510,  3315,  8160, 17085, 24225,\n",
       "        24225, 24225, 24225, 24225, 24225, 24225, 24225, 24225, 24225,\n",
       "        24225, 24225, 24225, 24225, 24225, 24225, 24225, 24225, 24225,\n",
       "        24225],\n",
       "       [    0,     0,     0,     0,     0,     0,     0,     0,     0,\n",
       "            0,     0,     0,     0,     0,     0,     0,     0,     0,\n",
       "            0,     0,     0,     0,     0,     0,     0,     0,     0,\n",
       "            0,     0,     0,     0,     0,     0,     0,     0,     0,\n",
       "            0,     0,     0,     0,     0,     0,     0,     0,     0,\n",
       "            0,     0,     0,     0,     0,     0,     0,     0,     0,\n",
       "            0,     0,     0,     0,     0,     0,     0,     0,     0,\n",
       "            0,     0,     0,     0,     0,     0,     0,     0,     0,\n",
       "            0,     0,  -255,  -765,     0,  2805, 11730, 18870, 24225,\n",
       "        24225, 24225, 24225, 24225, 24225, 24225, 24225, 24225, 24225,\n",
       "        24225, 24225, 24225, 24225, 24225, 24225, 24225, 24225, 24225,\n",
       "        24225],\n",
       "       [    0,     0,     0,     0,     0,     0,     0,     0,     0,\n",
       "            0,     0,     0,     0,     0,     0,     0,     0,     0,\n",
       "            0,     0,     0,     0,     0,     0,     0,     0,     0,\n",
       "            0,     0,     0,     0,     0,     0,     0,     0,     0,\n",
       "            0,     0,     0,     0,     0,     0,     0,     0,     0,\n",
       "            0,     0,     0,     0,     0,     0,     0,     0,     0,\n",
       "            0,     0,     0,     0,     0,     0,     0,     0,     0,\n",
       "            0,     0,     0,     0,     0,     0,     0,     0,     0,\n",
       "            0,  -255,  -765, -1530,  -765,  8160, 15300, 20655, 24225,\n",
       "        24225, 24225, 24225, 24225, 24225, 24225, 24225, 24225, 24225,\n",
       "        24225, 24225, 24225, 24225, 24225, 24225, 24225, 24225, 24225,\n",
       "        24225],\n",
       "       [    0,     0,     0,     0,     0,     0,     0,     0,     0,\n",
       "            0,     0,     0,     0,     0,     0,     0,     0,     0,\n",
       "            0,     0,     0,     0,     0,     0,     0,     0,     0,\n",
       "            0,     0,     0,     0,     0,     0,     0,     0,     0,\n",
       "            0,     0,     0,     0,     0,     0,     0,     0,     0,\n",
       "            0,     0,     0,     0,     0,     0,     0,     0,     0,\n",
       "            0,     0,     0,     0,     0,     0,     0,     0,     0,\n",
       "            0,     0,     0,     0,     0,     0,     0,     0,     0,\n",
       "         -255,  -765, -1530, -2550,  6375, 13515, 18870, 22440, 24225,\n",
       "        24225, 24225, 24225, 24225, 24225, 24225, 24225, 24225, 24225,\n",
       "        24225, 24225, 24225, 24225, 24225, 24225, 24225, 24225, 24225,\n",
       "        24225],\n",
       "       [    0,     0,     0,     0,     0,     0,     0,     0,     0,\n",
       "            0,     0,     0,     0,     0,     0,     0,     0,     0,\n",
       "            0,     0,     0,     0,     0,     0,     0,     0,     0,\n",
       "            0,     0,     0,     0,     0,     0,     0,     0,     0,\n",
       "            0,     0,     0,     0,     0,     0,     0,     0,     0,\n",
       "            0,     0,     0,     0,     0,     0,     0,     0,     0,\n",
       "            0,     0,     0,     0,     0,     0,     0,     0,     0,\n",
       "            0,     0,     0,     0,     0,     0,     0,     0,  -255,\n",
       "         -765, -1530, -2550,  6375, 13515, 18870, 22440, 24225, 24225,\n",
       "        24225, 24225, 24225, 24225, 24225, 24225, 24225, 24225, 24225,\n",
       "        24225, 24225, 24225, 24225, 24225, 24225, 24225, 24225, 24225,\n",
       "        24225]])"
      ]
     },
     "execution_count": 64,
     "metadata": {},
     "output_type": "execute_result"
    }
   ],
   "source": [
    "result[:5,:100]"
   ]
  },
  {
   "cell_type": "code",
   "execution_count": null,
   "metadata": {},
   "outputs": [],
   "source": []
  }
 ],
 "metadata": {
  "kernelspec": {
   "display_name": "Python 3",
   "language": "python",
   "name": "python3"
  },
  "language_info": {
   "codemirror_mode": {
    "name": "ipython",
    "version": 3
   },
   "file_extension": ".py",
   "mimetype": "text/x-python",
   "name": "python",
   "nbconvert_exporter": "python",
   "pygments_lexer": "ipython3",
   "version": "3.8.1"
  }
 },
 "nbformat": 4,
 "nbformat_minor": 2
}
