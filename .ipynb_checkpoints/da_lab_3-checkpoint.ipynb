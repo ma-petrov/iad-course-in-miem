{
 "cells": [
  {
   "cell_type": "code",
   "execution_count": 1,
   "metadata": {},
   "outputs": [
    {
     "ename": "ModuleNotFoundError",
     "evalue": "No module named 'requests'",
     "output_type": "error",
     "traceback": [
      "\u001b[0;31m---------------------------------------------------------------------------\u001b[0m",
      "\u001b[0;31mModuleNotFoundError\u001b[0m                       Traceback (most recent call last)",
      "\u001b[0;32m<ipython-input-1-4ea6ca024838>\u001b[0m in \u001b[0;36m<module>\u001b[0;34m\u001b[0m\n\u001b[1;32m      1\u001b[0m \u001b[0;32mimport\u001b[0m \u001b[0mpandas\u001b[0m \u001b[0;32mas\u001b[0m \u001b[0mpd\u001b[0m\u001b[0;34m\u001b[0m\u001b[0;34m\u001b[0m\u001b[0m\n\u001b[1;32m      2\u001b[0m \u001b[0;32mimport\u001b[0m \u001b[0mnumpy\u001b[0m \u001b[0;32mas\u001b[0m \u001b[0mnp\u001b[0m\u001b[0;34m\u001b[0m\u001b[0;34m\u001b[0m\u001b[0m\n\u001b[0;32m----> 3\u001b[0;31m \u001b[0;32mimport\u001b[0m \u001b[0mrequests\u001b[0m\u001b[0;34m\u001b[0m\u001b[0;34m\u001b[0m\u001b[0m\n\u001b[0m\u001b[1;32m      4\u001b[0m \u001b[0;32mimport\u001b[0m \u001b[0mjson\u001b[0m\u001b[0;34m\u001b[0m\u001b[0;34m\u001b[0m\u001b[0m\n\u001b[1;32m      5\u001b[0m \u001b[0;32mimport\u001b[0m \u001b[0mcsv\u001b[0m\u001b[0;34m\u001b[0m\u001b[0;34m\u001b[0m\u001b[0m\n",
      "\u001b[0;31mModuleNotFoundError\u001b[0m: No module named 'requests'"
     ]
    }
   ],
   "source": [
    "import pandas as pd\n",
    "import numpy as np\n",
    "import requests\n",
    "import json\n",
    "import csv\n",
    "import re\n",
    "import nltk\n",
    "import umap\n",
    "import pymorphy2\n",
    "from tqdm import tqdm\n",
    "from matplotlib import pyplot as plt\n",
    "from sklearn.cluster import KMeans\n",
    "from sklearn.decomposition import PCA\n",
    "from sklearn.feature_extraction.text import CountVectorizer\n",
    "from sklearn.feature_extraction.text import TfidfVectorizer"
   ]
  },
  {
   "cell_type": "code",
   "execution_count": 2,
   "metadata": {},
   "outputs": [],
   "source": [
    "MEDUZA_URL = 'https://meduza.io/api/v3/'\n",
    "NEWS_LIST_URL = 'search?chrono=news&locale=ru&page={}&per_page=24'\n",
    "\n",
    "morph = pymorphy2.MorphAnalyzer()"
   ]
  },
  {
   "cell_type": "code",
   "execution_count": 3,
   "metadata": {},
   "outputs": [
    {
     "name": "stderr",
     "output_type": "stream",
     "text": [
      "100%|██████████| 100/100 [05:17<00:00,  3.17s/it]\n"
     ]
    }
   ],
   "source": [
    "title_col = []\n",
    "pub_date_col = []\n",
    "body_col = []\n",
    "\n",
    "for i in tqdm(range(100)):\n",
    "    response = requests.get(MEDUZA_URL + NEWS_LIST_URL.format(str(i)))\n",
    "    news_list_json = json.loads(response.text)\n",
    "\n",
    "    for todo in (news_list_json[\"documents\"]):\n",
    "        news = news_list_json[\"documents\"][todo]\n",
    "        if re.findall('^news', news[\"url\"]):\n",
    "            response = requests.get(MEDUZA_URL + news[\"url\"])\n",
    "            \n",
    "            body = json.loads(response.text)['root']['content']['body']\n",
    "            body = re.sub('<.+?>', '', body)\n",
    "            body = re.sub('\\\\xa0|\\\\n', ' ', body)\n",
    "            \n",
    "            title_col.append(news['title'])\n",
    "            pub_date_col.append(news['pub_date'])\n",
    "            body_col.append(body)\n",
    "            \n",
    "news_df = pd.DataFrame({'title': title_col, 'pub_date': pub_date_col, 'body': body_col})"
   ]
  },
  {
   "cell_type": "code",
   "execution_count": 27,
   "metadata": {},
   "outputs": [
    {
     "data": {
      "text/html": [
       "<div>\n",
       "<style scoped>\n",
       "    .dataframe tbody tr th:only-of-type {\n",
       "        vertical-align: middle;\n",
       "    }\n",
       "\n",
       "    .dataframe tbody tr th {\n",
       "        vertical-align: top;\n",
       "    }\n",
       "\n",
       "    .dataframe thead th {\n",
       "        text-align: right;\n",
       "    }\n",
       "</style>\n",
       "<table border=\"1\" class=\"dataframe\">\n",
       "  <thead>\n",
       "    <tr style=\"text-align: right;\">\n",
       "      <th></th>\n",
       "      <th>title</th>\n",
       "      <th>pub_date</th>\n",
       "      <th>body</th>\n",
       "      <th>vocabular</th>\n",
       "    </tr>\n",
       "  </thead>\n",
       "  <tbody>\n",
       "    <tr>\n",
       "      <th>0</th>\n",
       "      <td>Студентам-медикам пообещали больше 100 тысяч р...</td>\n",
       "      <td>2020-04-29</td>\n",
       "      <td>Московские больницы,...</td>\n",
       "      <td>[московский, больница, лечить, заразить, корон...</td>\n",
       "    </tr>\n",
       "    <tr>\n",
       "      <th>1</th>\n",
       "      <td>Сенатор Мизулина пожаловалась на телеграм-кана...</td>\n",
       "      <td>2020-04-29</td>\n",
       "      <td>Следственный комитет...</td>\n",
       "      <td>[следственный, комитет, начать, проверка, факт...</td>\n",
       "    </tr>\n",
       "    <tr>\n",
       "      <th>2</th>\n",
       "      <td>Сделку по продаже «Ведомостей» отложили</td>\n",
       "      <td>2020-04-29</td>\n",
       "      <td>Сделка по продаже га...</td>\n",
       "      <td>[сделка, продажа, газета, ведомость, отложить,...</td>\n",
       "    </tr>\n",
       "    <tr>\n",
       "      <th>3</th>\n",
       "      <td>Российских генералов лишат каракулевых шапок</td>\n",
       "      <td>2020-04-29</td>\n",
       "      <td>Минобороны предложил...</td>\n",
       "      <td>[минобороны, предложить, высокий, офицер, кара...</td>\n",
       "    </tr>\n",
       "    <tr>\n",
       "      <th>4</th>\n",
       "      <td>«Роснефть» подаст в суд на «Би-би-си» из-за те...</td>\n",
       "      <td>2020-04-29</td>\n",
       "      <td>«Роснефть» объявила ...</td>\n",
       "      <td>[роснефть, объявить, намерение, суд, би-бить, ...</td>\n",
       "    </tr>\n",
       "  </tbody>\n",
       "</table>\n",
       "</div>"
      ],
      "text/plain": [
       "                                               title    pub_date  \\\n",
       "0  Студентам-медикам пообещали больше 100 тысяч р...  2020-04-29   \n",
       "1  Сенатор Мизулина пожаловалась на телеграм-кана...  2020-04-29   \n",
       "2            Сделку по продаже «Ведомостей» отложили  2020-04-29   \n",
       "3       Российских генералов лишат каракулевых шапок  2020-04-29   \n",
       "4  «Роснефть» подаст в суд на «Би-би-си» из-за те...  2020-04-29   \n",
       "\n",
       "                                                body  \\\n",
       "0                            Московские больницы,...   \n",
       "1                            Следственный комитет...   \n",
       "2                            Сделка по продаже га...   \n",
       "3                            Минобороны предложил...   \n",
       "4                            «Роснефть» объявила ...   \n",
       "\n",
       "                                           vocabular  \n",
       "0  [московский, больница, лечить, заразить, корон...  \n",
       "1  [следственный, комитет, начать, проверка, факт...  \n",
       "2  [сделка, продажа, газета, ведомость, отложить,...  \n",
       "3  [минобороны, предложить, высокий, офицер, кара...  \n",
       "4  [роснефть, объявить, намерение, суд, би-бить, ...  "
      ]
     },
     "execution_count": 27,
     "metadata": {},
     "output_type": "execute_result"
    }
   ],
   "source": [
    "news_df.head()"
   ]
  },
  {
   "cell_type": "code",
   "execution_count": 29,
   "metadata": {},
   "outputs": [
    {
     "data": {
      "text/plain": [
       "1481"
      ]
     },
     "execution_count": 29,
     "metadata": {},
     "output_type": "execute_result"
    }
   ],
   "source": [
    "news_df.shape[0]"
   ]
  },
  {
   "cell_type": "code",
   "execution_count": 5,
   "metadata": {},
   "outputs": [],
   "source": [
    "def normalixze_pymorphy(text):\n",
    "    IMP_POS = ['ADJF', 'ADJS', 'NOUN', 'VERB', 'PRTF', 'PRTS', 'GRND']\n",
    "    tokens = re.findall('[A-Za-zА-Яа-яЁё]+\\-[A-Za-zА-Яа-яЁё]+|[A-Za-zА-Яа-яЁё]+', text)\n",
    "    words = []\n",
    "    for t in tokens:\n",
    "        pv = morph.parse(t)\n",
    "        if pv[0].tag.POS in IMP_POS and pv[0].normal_form != 'быть':\n",
    "            words.append(pv[0].normal_form)\n",
    "    return words"
   ]
  },
  {
   "cell_type": "code",
   "execution_count": null,
   "metadata": {},
   "outputs": [],
   "source": []
  },
  {
   "cell_type": "code",
   "execution_count": 6,
   "metadata": {},
   "outputs": [],
   "source": [
    "news_df['vocabular'] = [normalixze_pymorphy(w) for w in news_df.body]\n",
    "tfCounter = TfidfVectorizer(ngram_range=(1, 2), token_pattern=r'[А-Яа-яЁё]+\\-[А-Яа-яЁё]+|[А-Яа-яЁё]+')\n",
    "tfres = tfCounter.fit_transform([' '.join([w for w in v]) for v in news_df.vocabular])"
   ]
  },
  {
   "cell_type": "code",
   "execution_count": 28,
   "metadata": {},
   "outputs": [
    {
     "data": {
      "text/html": [
       "<div>\n",
       "<style scoped>\n",
       "    .dataframe tbody tr th:only-of-type {\n",
       "        vertical-align: middle;\n",
       "    }\n",
       "\n",
       "    .dataframe tbody tr th {\n",
       "        vertical-align: top;\n",
       "    }\n",
       "\n",
       "    .dataframe thead th {\n",
       "        text-align: right;\n",
       "    }\n",
       "</style>\n",
       "<table border=\"1\" class=\"dataframe\">\n",
       "  <thead>\n",
       "    <tr style=\"text-align: right;\">\n",
       "      <th></th>\n",
       "      <th>title</th>\n",
       "      <th>pub_date</th>\n",
       "      <th>body</th>\n",
       "      <th>vocabular</th>\n",
       "    </tr>\n",
       "  </thead>\n",
       "  <tbody>\n",
       "    <tr>\n",
       "      <th>0</th>\n",
       "      <td>Студентам-медикам пообещали больше 100 тысяч р...</td>\n",
       "      <td>2020-04-29</td>\n",
       "      <td>Московские больницы,...</td>\n",
       "      <td>[московский, больница, лечить, заразить, корон...</td>\n",
       "    </tr>\n",
       "    <tr>\n",
       "      <th>1</th>\n",
       "      <td>Сенатор Мизулина пожаловалась на телеграм-кана...</td>\n",
       "      <td>2020-04-29</td>\n",
       "      <td>Следственный комитет...</td>\n",
       "      <td>[следственный, комитет, начать, проверка, факт...</td>\n",
       "    </tr>\n",
       "    <tr>\n",
       "      <th>2</th>\n",
       "      <td>Сделку по продаже «Ведомостей» отложили</td>\n",
       "      <td>2020-04-29</td>\n",
       "      <td>Сделка по продаже га...</td>\n",
       "      <td>[сделка, продажа, газета, ведомость, отложить,...</td>\n",
       "    </tr>\n",
       "    <tr>\n",
       "      <th>3</th>\n",
       "      <td>Российских генералов лишат каракулевых шапок</td>\n",
       "      <td>2020-04-29</td>\n",
       "      <td>Минобороны предложил...</td>\n",
       "      <td>[минобороны, предложить, высокий, офицер, кара...</td>\n",
       "    </tr>\n",
       "    <tr>\n",
       "      <th>4</th>\n",
       "      <td>«Роснефть» подаст в суд на «Би-би-си» из-за те...</td>\n",
       "      <td>2020-04-29</td>\n",
       "      <td>«Роснефть» объявила ...</td>\n",
       "      <td>[роснефть, объявить, намерение, суд, би-бить, ...</td>\n",
       "    </tr>\n",
       "  </tbody>\n",
       "</table>\n",
       "</div>"
      ],
      "text/plain": [
       "                                               title    pub_date  \\\n",
       "0  Студентам-медикам пообещали больше 100 тысяч р...  2020-04-29   \n",
       "1  Сенатор Мизулина пожаловалась на телеграм-кана...  2020-04-29   \n",
       "2            Сделку по продаже «Ведомостей» отложили  2020-04-29   \n",
       "3       Российских генералов лишат каракулевых шапок  2020-04-29   \n",
       "4  «Роснефть» подаст в суд на «Би-би-си» из-за те...  2020-04-29   \n",
       "\n",
       "                                                body  \\\n",
       "0                            Московские больницы,...   \n",
       "1                            Следственный комитет...   \n",
       "2                            Сделка по продаже га...   \n",
       "3                            Минобороны предложил...   \n",
       "4                            «Роснефть» объявила ...   \n",
       "\n",
       "                                           vocabular  \n",
       "0  [московский, больница, лечить, заразить, корон...  \n",
       "1  [следственный, комитет, начать, проверка, факт...  \n",
       "2  [сделка, продажа, газета, ведомость, отложить,...  \n",
       "3  [минобороны, предложить, высокий, офицер, кара...  \n",
       "4  [роснефть, объявить, намерение, суд, би-бить, ...  "
      ]
     },
     "execution_count": 28,
     "metadata": {},
     "output_type": "execute_result"
    }
   ],
   "source": [
    "news_df.head()"
   ]
  },
  {
   "cell_type": "code",
   "execution_count": 7,
   "metadata": {},
   "outputs": [
    {
     "name": "stderr",
     "output_type": "stream",
     "text": [
      "100%|██████████| 1481/1481 [00:13<00:00, 110.63it/s]\n"
     ]
    }
   ],
   "source": [
    "freqwords = []\n",
    "for i in tqdm(range(news_df.shape[0])):\n",
    "\n",
    "    tfs = [(k,tfres[i][0, tfCounter.vocabulary_.get(k)]) for k in news_df.vocabular.iloc[i] \n",
    "         if k in tfCounter.vocabulary_.keys()]\n",
    "    fw = [w for w, f in sorted(tfs, key = lambda x: x[1], reverse = True)[:5]]\n",
    "    freqwords.append(fw)\n",
    "    \n",
    "news['Freq Words TFIDF'] = freqwords"
   ]
  },
  {
   "cell_type": "code",
   "execution_count": 16,
   "metadata": {},
   "outputs": [
    {
     "name": "stderr",
     "output_type": "stream",
     "text": [
      "100%|██████████| 15/15 [10:13<00:00, 40.93s/it]\n"
     ]
    }
   ],
   "source": [
    "eblow_crit = []\n",
    "\n",
    "for k in tqdm(range(1, 16)):\n",
    "    eblow_crit.append(KMeans(n_clusters=k, random_state=None).fit(tfres).inertia_)"
   ]
  },
  {
   "cell_type": "code",
   "execution_count": 17,
   "metadata": {},
   "outputs": [
    {
     "data": {
      "image/png": "[encoded data removed]",
      "text/plain": [
       "<Figure size 432x288 with 1 Axes>"
      ]
     },
     "metadata": {
      "needs_background": "light"
     },
     "output_type": "display_data"
    }
   ],
   "source": [
    "plt.plot(range(1, 16), eblow_crit, marker = 's', mfc = 'red')\n",
    "plt.xlabel('Number (k) of clusters')\n",
    "plt.ylabel('Sum of squared distances')\n",
    "plt.title('Elbow Method For Optimal k')\n",
    "plt.show()"
   ]
  },
  {
   "cell_type": "code",
   "execution_count": 20,
   "metadata": {},
   "outputs": [],
   "source": [
    "km = KMeans(n_clusters=3, random_state=None).fit(tfres)\n",
    "classes = km.labels_"
   ]
  },
  {
   "cell_type": "code",
   "execution_count": 23,
   "metadata": {},
   "outputs": [
    {
     "data": {
      "image/png": "[encoded data removed]",
      "text/plain": [
       "<Figure size 432x288 with 1 Axes>"
      ]
     },
     "metadata": {
      "needs_background": "light"
     },
     "output_type": "display_data"
    }
   ],
   "source": [
    "# Уменьшим размерность до 2D\n",
    "pca = PCA(n_components=2, random_state=1)\n",
    "reduced_features = pca.fit_transform(tfres.toarray())\n",
    "\n",
    "fig, ax = plt.subplots()\n",
    "scatter = ax.scatter(reduced_features[:,0], reduced_features[:,1], c=classes, s=30)\n",
    "\n",
    "# produce a legend with the unique colors from the scatter\n",
    "legend1 = ax.legend(*scatter.legend_elements(),\n",
    "                    loc=\"upper right\", title=\"Classes\")\n",
    "ax.add_artist(legend1)\n",
    "plt.show()"
   ]
  },
  {
   "cell_type": "code",
   "execution_count": 26,
   "metadata": {},
   "outputs": [
    {
     "name": "stdout",
     "output_type": "stream",
     "text": [
      "  (0, 53638)\t0.0622661549237944\n",
      "  (0, 25908)\t0.0622661549237944\n",
      "  (0, 66451)\t0.0622661549237944\n",
      "  (0, 85721)\t0.0622661549237944\n",
      "  (0, 26033)\t0.0622661549237944\n",
      "  (0, 98026)\t0.0622661549237944\n",
      "  (0, 84464)\t0.0622661549237944\n",
      "  (0, 48716)\t0.04995633519354115\n",
      "  (0, 27963)\t0.0622661549237944\n",
      "  (0, 17161)\t0.04831398614183802\n",
      "  (0, 5266)\t0.05659323087246953\n",
      "  (0, 25891)\t0.0622661549237944\n",
      "  (0, 96630)\t0.0622661549237944\n",
      "  (0, 66466)\t0.0622661549237944\n",
      "  (0, 26210)\t0.0622661549237944\n",
      "  (0, 45115)\t0.0622661549237944\n",
      "  (0, 90464)\t0.0622661549237944\n",
      "  (0, 86880)\t0.0622661549237944\n",
      "  (0, 28033)\t0.052013167717173424\n",
      "  (0, 90491)\t0.05894770708433022\n",
      "  (0, 5400)\t0.0622661549237944\n",
      "  (0, 47883)\t0.0622661549237944\n",
      "  (0, 90485)\t0.0622661549237944\n",
      "  (0, 75670)\t0.0622661549237944\n",
      "  (0, 79988)\t0.05092030682114466\n",
      "  :\t:\n",
      "  (0, 93736)\t0.014452707786831567\n",
      "  (0, 79008)\t0.021620182093951713\n",
      "  (0, 95102)\t0.017939167672349356\n",
      "  (0, 66518)\t0.03575984082330446\n",
      "  (0, 25889)\t0.11723486598830594\n",
      "  (0, 6549)\t0.04066731961452368\n",
      "  (0, 11538)\t0.038610487090891404\n",
      "  (0, 66747)\t0.027151750310242577\n",
      "  (0, 29932)\t0.024825350624703146\n",
      "  (0, 5660)\t0.043240364187903425\n",
      "  (0, 103485)\t0.05353693786503079\n",
      "  (0, 54137)\t0.026930539563138418\n",
      "  (0, 89704)\t0.044283411142216275\n",
      "  (0, 86601)\t0.0347199448164207\n",
      "  (0, 11361)\t0.12578680479106677\n",
      "  (0, 41375)\t0.13957498778937324\n",
      "  (0, 90452)\t0.3945681793423845\n",
      "  (0, 66449)\t0.22887792674698376\n",
      "  (0, 72893)\t0.08580338288363178\n",
      "  (0, 69180)\t0.03660433150562039\n",
      "  (0, 35497)\t0.04743309701882859\n",
      "  (0, 25753)\t0.030755394231891324\n",
      "  (0, 38634)\t0.04227725555694526\n",
      "  (0, 5234)\t0.12455081388190485\n",
      "  (0, 44889)\t0.022815527416966006\n"
     ]
    }
   ],
   "source": [
    "print(tfres[0])"
   ]
  },
  {
   "cell_type": "code",
   "execution_count": null,
   "metadata": {},
   "outputs": [],
   "source": []
  }
 ],
 "metadata": {
  "kernelspec": {
   "display_name": "Python 3",
   "language": "python",
   "name": "python3"
  },
  "language_info": {
   "codemirror_mode": {
    "name": "ipython",
    "version": 3
   },
   "file_extension": ".py",
   "mimetype": "text/x-python",
   "name": "python",
   "nbconvert_exporter": "python",
   "pygments_lexer": "ipython3",
   "version": "3.7.3"
  }
 },
 "nbformat": 4,
 "nbformat_minor": 4
}
