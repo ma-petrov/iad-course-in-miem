{
 "cells": [
  {
   "cell_type": "code",
   "execution_count": 5,
   "metadata": {},
   "outputs": [],
   "source": [
    "import pandas as pd\n",
    "import numpy as np\n",
    "import requests\n",
    "import json\n",
    "import csv\n",
    "import re\n",
    "import nltk\n",
    "import umap\n",
    "import pymorphy2\n",
    "from tqdm import tqdm\n",
    "from matplotlib import pyplot as plt\n",
    "from sklearn.cluster import KMeans\n",
    "from sklearn.decomposition import PCA\n",
    "from sklearn.feature_extraction.text import CountVectorizer\n",
    "from sklearn.feature_extraction.text import TfidfVectorizer"
   ]
  },
  {
   "cell_type": "code",
   "execution_count": 6,
   "metadata": {},
   "outputs": [],
   "source": [
    "MEDUZA_URL = 'https://meduza.io/api/v3/'\n",
    "NEWS_LIST_URL = 'search?chrono=news&locale=ru&page={}&per_page=24'\n",
    "\n",
    "morph = pymorphy2.MorphAnalyzer()"
   ]
  },
  {
   "cell_type": "code",
   "execution_count": 9,
   "metadata": {},
   "outputs": [
    {
     "name": "stderr",
     "output_type": "stream",
     "text": [
      "100%|██████████| 100/100 [06:35<00:00,  3.96s/it]\n"
     ]
    }
   ],
   "source": [
    "title_col = []\n",
    "pub_date_col = []\n",
    "body_col = []\n",
    "\n",
    "for i in tqdm(range(100)):\n",
    "    response = requests.get(MEDUZA_URL + NEWS_LIST_URL.format(str(i)))\n",
    "    news_list_json = json.loads(response.text)\n",
    "\n",
    "    for todo in (news_list_json[\"documents\"]):\n",
    "        news = news_list_json[\"documents\"][todo]\n",
    "        if re.findall('^news', news[\"url\"]):\n",
    "            response = requests.get(MEDUZA_URL + news[\"url\"])\n",
    "            \n",
    "            body = json.loads(response.text)['root']['content']['body']\n",
    "            body = re.sub('<.+?>', '', body)\n",
    "            body = re.sub('\\\\xa0|\\\\n', ' ', body)\n",
    "            \n",
    "            title_col.append(news['title'])\n",
    "            pub_date_col.append(news['pub_date'])\n",
    "            body_col.append(body)\n",
    "            \n",
    "news_df = pd.DataFrame({'title': title_col, 'pub_date': pub_date_col, 'body': body_col})"
   ]
  },
  {
   "cell_type": "code",
   "execution_count": 10,
   "metadata": {},
   "outputs": [
    {
     "data": {
      "text/html": [
       "<div>\n",
       "<style scoped>\n",
       "    .dataframe tbody tr th:only-of-type {\n",
       "        vertical-align: middle;\n",
       "    }\n",
       "\n",
       "    .dataframe tbody tr th {\n",
       "        vertical-align: top;\n",
       "    }\n",
       "\n",
       "    .dataframe thead th {\n",
       "        text-align: right;\n",
       "    }\n",
       "</style>\n",
       "<table border=\"1\" class=\"dataframe\">\n",
       "  <thead>\n",
       "    <tr style=\"text-align: right;\">\n",
       "      <th></th>\n",
       "      <th>title</th>\n",
       "      <th>pub_date</th>\n",
       "      <th>body</th>\n",
       "    </tr>\n",
       "  </thead>\n",
       "  <tbody>\n",
       "    <tr>\n",
       "      <th>0</th>\n",
       "      <td>В Третьяковской галерее на Крымском валу из-за...</td>\n",
       "      <td>2020-08-26</td>\n",
       "      <td>Обновлено. Представ...</td>\n",
       "    </tr>\n",
       "    <tr>\n",
       "      <th>1</th>\n",
       "      <td>В дом Валерия и Вероники Цепкало пришли с обыском</td>\n",
       "      <td>2020-08-26</td>\n",
       "      <td>В Минске в доме неза...</td>\n",
       "    </tr>\n",
       "    <tr>\n",
       "      <th>2</th>\n",
       "      <td>Убийца Джона Леннона получил отказ в досрочном...</td>\n",
       "      <td>2020-08-26</td>\n",
       "      <td>Комиссия по условно-...</td>\n",
       "    </tr>\n",
       "    <tr>\n",
       "      <th>3</th>\n",
       "      <td>Суд взыскал с Навального 3,3 миллиона рублей с...</td>\n",
       "      <td>2020-08-26</td>\n",
       "      <td>Арбитражный суд Моск...</td>\n",
       "    </tr>\n",
       "    <tr>\n",
       "      <th>4</th>\n",
       "      <td>Сайт МГУ сообщил о зачислении на бюджет полной...</td>\n",
       "      <td>2020-08-26</td>\n",
       "      <td>Анастасия Шувалова, ...</td>\n",
       "    </tr>\n",
       "  </tbody>\n",
       "</table>\n",
       "</div>"
      ],
      "text/plain": [
       "                                               title    pub_date  \\\n",
       "0  В Третьяковской галерее на Крымском валу из-за...  2020-08-26   \n",
       "1  В дом Валерия и Вероники Цепкало пришли с обыском  2020-08-26   \n",
       "2  Убийца Джона Леннона получил отказ в досрочном...  2020-08-26   \n",
       "3  Суд взыскал с Навального 3,3 миллиона рублей с...  2020-08-26   \n",
       "4  Сайт МГУ сообщил о зачислении на бюджет полной...  2020-08-26   \n",
       "\n",
       "                                                body  \n",
       "0                             Обновлено. Представ...  \n",
       "1                            В Минске в доме неза...  \n",
       "2                            Комиссия по условно-...  \n",
       "3                            Арбитражный суд Моск...  \n",
       "4                            Анастасия Шувалова, ...  "
      ]
     },
     "execution_count": 10,
     "metadata": {},
     "output_type": "execute_result"
    }
   ],
   "source": [
    "news_df.head()"
   ]
  },
  {
   "cell_type": "code",
   "execution_count": 11,
   "metadata": {},
   "outputs": [
    {
     "data": {
      "text/plain": [
       "1425"
      ]
     },
     "execution_count": 11,
     "metadata": {},
     "output_type": "execute_result"
    }
   ],
   "source": [
    "news_df.shape[0]"
   ]
  },
  {
   "cell_type": "code",
   "execution_count": 12,
   "metadata": {},
   "outputs": [],
   "source": [
    "def normalixze_pymorphy(text):\n",
    "    IMP_POS = ['ADJF', 'ADJS', 'NOUN', 'VERB', 'PRTF', 'PRTS', 'GRND']\n",
    "    tokens = re.findall('[A-Za-zА-Яа-яЁё]+\\-[A-Za-zА-Яа-яЁё]+|[A-Za-zА-Яа-яЁё]+', text)\n",
    "    words = []\n",
    "    for t in tokens:\n",
    "        pv = morph.parse(t)\n",
    "        if pv[0].tag.POS in IMP_POS and pv[0].normal_form != 'быть':\n",
    "            words.append(pv[0].normal_form)\n",
    "    return words"
   ]
  },
  {
   "cell_type": "code",
   "execution_count": null,
   "metadata": {},
   "outputs": [],
   "source": []
  },
  {
   "cell_type": "code",
   "execution_count": 13,
   "metadata": {},
   "outputs": [],
   "source": [
    "news_df['vocabular'] = [normalixze_pymorphy(w) for w in news_df.body]\n",
    "tfCounter = TfidfVectorizer(ngram_range=(1, 2), token_pattern=r'[А-Яа-яЁё]+\\-[А-Яа-яЁё]+|[А-Яа-яЁё]+')\n",
    "tfres = tfCounter.fit_transform([' '.join([w for w in v]) for v in news_df.vocabular])"
   ]
  },
  {
   "cell_type": "code",
   "execution_count": 14,
   "metadata": {},
   "outputs": [
    {
     "data": {
      "text/html": [
       "<div>\n",
       "<style scoped>\n",
       "    .dataframe tbody tr th:only-of-type {\n",
       "        vertical-align: middle;\n",
       "    }\n",
       "\n",
       "    .dataframe tbody tr th {\n",
       "        vertical-align: top;\n",
       "    }\n",
       "\n",
       "    .dataframe thead th {\n",
       "        text-align: right;\n",
       "    }\n",
       "</style>\n",
       "<table border=\"1\" class=\"dataframe\">\n",
       "  <thead>\n",
       "    <tr style=\"text-align: right;\">\n",
       "      <th></th>\n",
       "      <th>title</th>\n",
       "      <th>pub_date</th>\n",
       "      <th>body</th>\n",
       "      <th>vocabular</th>\n",
       "    </tr>\n",
       "  </thead>\n",
       "  <tbody>\n",
       "    <tr>\n",
       "      <th>0</th>\n",
       "      <td>В Третьяковской галерее на Крымском валу из-за...</td>\n",
       "      <td>2020-08-26</td>\n",
       "      <td>Обновлено. Представ...</td>\n",
       "      <td>[обновить, представитель, галерея, сообщить, к...</td>\n",
       "    </tr>\n",
       "    <tr>\n",
       "      <th>1</th>\n",
       "      <td>В дом Валерия и Вероники Цепкало пришли с обыском</td>\n",
       "      <td>2020-08-26</td>\n",
       "      <td>В Минске в доме неза...</td>\n",
       "      <td>[минск, дом, незарегистрированный, кандидат, п...</td>\n",
       "    </tr>\n",
       "    <tr>\n",
       "      <th>2</th>\n",
       "      <td>Убийца Джона Леннона получил отказ в досрочном...</td>\n",
       "      <td>2020-08-26</td>\n",
       "      <td>Комиссия по условно-...</td>\n",
       "      <td>[комиссия, условно-досрочный, освобождение, шт...</td>\n",
       "    </tr>\n",
       "    <tr>\n",
       "      <th>3</th>\n",
       "      <td>Суд взыскал с Навального 3,3 миллиона рублей с...</td>\n",
       "      <td>2020-08-26</td>\n",
       "      <td>Арбитражный суд Моск...</td>\n",
       "      <td>[арбитражный, суд, москва, взыскать, основател...</td>\n",
       "    </tr>\n",
       "    <tr>\n",
       "      <th>4</th>\n",
       "      <td>Сайт МГУ сообщил о зачислении на бюджет полной...</td>\n",
       "      <td>2020-08-26</td>\n",
       "      <td>Анастасия Шувалова, ...</td>\n",
       "      <td>[анастасий, шувалов, полный, тёзка, дочь, бывш...</td>\n",
       "    </tr>\n",
       "  </tbody>\n",
       "</table>\n",
       "</div>"
      ],
      "text/plain": [
       "                                               title    pub_date  \\\n",
       "0  В Третьяковской галерее на Крымском валу из-за...  2020-08-26   \n",
       "1  В дом Валерия и Вероники Цепкало пришли с обыском  2020-08-26   \n",
       "2  Убийца Джона Леннона получил отказ в досрочном...  2020-08-26   \n",
       "3  Суд взыскал с Навального 3,3 миллиона рублей с...  2020-08-26   \n",
       "4  Сайт МГУ сообщил о зачислении на бюджет полной...  2020-08-26   \n",
       "\n",
       "                                                body  \\\n",
       "0                             Обновлено. Представ...   \n",
       "1                            В Минске в доме неза...   \n",
       "2                            Комиссия по условно-...   \n",
       "3                            Арбитражный суд Моск...   \n",
       "4                            Анастасия Шувалова, ...   \n",
       "\n",
       "                                           vocabular  \n",
       "0  [обновить, представитель, галерея, сообщить, к...  \n",
       "1  [минск, дом, незарегистрированный, кандидат, п...  \n",
       "2  [комиссия, условно-досрочный, освобождение, шт...  \n",
       "3  [арбитражный, суд, москва, взыскать, основател...  \n",
       "4  [анастасий, шувалов, полный, тёзка, дочь, бывш...  "
      ]
     },
     "execution_count": 14,
     "metadata": {},
     "output_type": "execute_result"
    }
   ],
   "source": [
    "news_df.head()"
   ]
  },
  {
   "cell_type": "code",
   "execution_count": 15,
   "metadata": {},
   "outputs": [
    {
     "name": "stderr",
     "output_type": "stream",
     "text": [
      "100%|██████████| 1425/1425 [00:17<00:00, 83.71it/s]\n"
     ]
    }
   ],
   "source": [
    "freqwords = []\n",
    "for i in tqdm(range(news_df.shape[0])):\n",
    "\n",
    "    tfs = [(k,tfres[i][0, tfCounter.vocabulary_.get(k)]) for k in news_df.vocabular.iloc[i] \n",
    "         if k in tfCounter.vocabulary_.keys()]\n",
    "    fw = [w for w, f in sorted(tfs, key = lambda x: x[1], reverse = True)[:5]]\n",
    "    freqwords.append(fw)\n",
    "    \n",
    "news['Freq Words TFIDF'] = freqwords"
   ]
  },
  {
   "cell_type": "code",
   "execution_count": 16,
   "metadata": {},
   "outputs": [
    {
     "name": "stderr",
     "output_type": "stream",
     "text": [
      "100%|██████████| 15/15 [00:34<00:00,  2.29s/it]\n"
     ]
    }
   ],
   "source": [
    "eblow_crit = []\n",
    "\n",
    "for k in tqdm(range(1, 16)):\n",
    "    eblow_crit.append(KMeans(n_clusters=k, random_state=None).fit(tfres).inertia_)"
   ]
  },
  {
   "cell_type": "code",
   "execution_count": 17,
   "metadata": {},
   "outputs": [
    {
     "data": {
      "image/png": "[encoded data removed]",
      "text/plain": [
       "<Figure size 432x288 with 1 Axes>"
      ]
     },
     "metadata": {
      "needs_background": "light"
     },
     "output_type": "display_data"
    }
   ],
   "source": [
    "plt.plot(range(1, 16), eblow_crit, marker = 's', mfc = 'red')\n",
    "plt.xlabel('Number (k) of clusters')\n",
    "plt.ylabel('Sum of squared distances')\n",
    "plt.title('Elbow Method For Optimal k')\n",
    "plt.show()"
   ]
  },
  {
   "cell_type": "code",
   "execution_count": 18,
   "metadata": {},
   "outputs": [],
   "source": [
    "km = KMeans(n_clusters=3, random_state=None).fit(tfres)\n",
    "classes = km.labels_"
   ]
  },
  {
   "cell_type": "code",
   "execution_count": 19,
   "metadata": {},
   "outputs": [
    {
     "data": {
      "image/png": "[encoded data removed]",
      "text/plain": [
       "<Figure size 432x288 with 1 Axes>"
      ]
     },
     "metadata": {
      "needs_background": "light"
     },
     "output_type": "display_data"
    }
   ],
   "source": [
    "# Уменьшим размерность до 2D\n",
    "pca = PCA(n_components=2, random_state=1)\n",
    "reduced_features = pca.fit_transform(tfres.toarray())\n",
    "\n",
    "fig, ax = plt.subplots()\n",
    "scatter = ax.scatter(reduced_features[:,0], reduced_features[:,1], c=classes, s=30)\n",
    "\n",
    "# produce a legend with the unique colors from the scatter\n",
    "legend1 = ax.legend(*scatter.legend_elements(),\n",
    "                    loc=\"upper right\", title=\"Classes\")\n",
    "ax.add_artist(legend1)\n",
    "plt.show()"
   ]
  },
  {
   "cell_type": "code",
   "execution_count": 20,
   "metadata": {},
   "outputs": [
    {
     "name": "stdout",
     "output_type": "stream",
     "text": [
      "  (0, 29552)\t0.05153542510466464\n",
      "  (0, 15433)\t0.0544521991320449\n",
      "  (0, 17510)\t0.0544521991320449\n",
      "  (0, 84799)\t0.0544521991320449\n",
      "  (0, 42771)\t0.0544521991320449\n",
      "  (0, 87188)\t0.0544521991320449\n",
      "  (0, 48272)\t0.05675991880936679\n",
      "  (0, 99824)\t0.0544521991320449\n",
      "  (0, 39719)\t0.0544521991320449\n",
      "  (0, 77657)\t0.0544521991320449\n",
      "  (0, 84793)\t0.0544521991320449\n",
      "  (0, 96431)\t0.0544521991320449\n",
      "  (0, 53673)\t0.042188838218285014\n",
      "  (0, 8125)\t0.0544521991320449\n",
      "  (0, 42773)\t0.0544521991320449\n",
      "  (0, 46594)\t0.0544521991320449\n",
      "  (0, 62801)\t0.036576650702282984\n",
      "  (0, 20221)\t0.05153542510466464\n",
      "  (0, 60278)\t0.0544521991320449\n",
      "  (0, 107470)\t0.0544521991320449\n",
      "  (0, 60893)\t0.0544521991320449\n",
      "  (0, 58535)\t0.0544521991320449\n",
      "  (0, 18278)\t0.0544521991320449\n",
      "  (0, 56505)\t0.0544521991320449\n",
      "  (0, 47693)\t0.0544521991320449\n",
      "  :\t:\n",
      "  (0, 104821)\t0.2178087965281796\n",
      "  (0, 56229)\t0.019604813265776868\n",
      "  (0, 30453)\t0.01495185532229525\n",
      "  (0, 72242)\t0.034971434120546804\n",
      "  (0, 84967)\t0.1089043982640898\n",
      "  (0, 47393)\t0.0216554411366088\n",
      "  (0, 89508)\t0.015668698777030345\n",
      "  (0, 10587)\t0.05153542510466464\n",
      "  (0, 93880)\t0.038646134809029946\n",
      "  (0, 101547)\t0.035663287843524856\n",
      "  (0, 29026)\t0.07729226961805989\n",
      "  (0, 103725)\t0.01249967843342819\n",
      "  (0, 9261)\t0.06783258102713294\n",
      "  (0, 108286)\t0.03159039256815577\n",
      "  (0, 67083)\t0.03308407746023619\n",
      "  (0, 62839)\t0.03949342472966325\n",
      "  (0, 51095)\t0.0789868494593265\n",
      "  (0, 72591)\t0.08995552795925875\n",
      "  (0, 34579)\t0.03600085148761646\n",
      "  (0, 84421)\t0.042434227396580045\n",
      "  (0, 37352)\t0.2022700140827655\n",
      "  (0, 95620)\t0.015162563060130592\n",
      "  (0, 15432)\t0.3607479757326525\n",
      "  (0, 74376)\t0.022451129826066278\n",
      "  (0, 57507)\t0.02404583705621424\n"
     ]
    }
   ],
   "source": [
    "print(tfres[0])"
   ]
  },
  {
   "cell_type": "code",
   "execution_count": null,
   "metadata": {},
   "outputs": [],
   "source": []
  }
 ],
 "metadata": {
  "kernelspec": {
   "display_name": "Python 3",
   "language": "python",
   "name": "python3"
  },
  "language_info": {
   "codemirror_mode": {
    "name": "ipython",
    "version": 3
   },
   "file_extension": ".py",
   "mimetype": "text/x-python",
   "name": "python",
   "nbconvert_exporter": "python",
   "pygments_lexer": "ipython3",
   "version": "3.7.3"
  }
 },
 "nbformat": 4,
 "nbformat_minor": 4
}
